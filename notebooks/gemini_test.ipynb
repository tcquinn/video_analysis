{
 "cells": [
  {
   "cell_type": "code",
   "execution_count": 1,
   "id": "e106f095-73fe-468c-9e95-a4c1894f4ed9",
   "metadata": {},
   "outputs": [],
   "source": [
    "from google import genai\n",
    "from pathlib import Path\n",
    "import os"
   ]
  },
  {
   "cell_type": "code",
   "execution_count": 2,
   "id": "6b45725e-97c8-4ea2-9c9e-e129df943264",
   "metadata": {},
   "outputs": [],
   "source": [
    "output_directory_path = Path('./output')"
   ]
  },
  {
   "cell_type": "code",
   "execution_count": 3,
   "id": "2a046ca4-f1b0-4f1f-ac83-09949d57f09a",
   "metadata": {},
   "outputs": [],
   "source": [
    "output_extension = 'md'"
   ]
  },
  {
   "cell_type": "code",
   "execution_count": 4,
   "id": "9f8e9d1f-0a84-4536-8361-89cc12498a7c",
   "metadata": {},
   "outputs": [],
   "source": [
    "model = 'gemini-2.5-pro-preview-03-25'"
   ]
  },
  {
   "cell_type": "code",
   "execution_count": 5,
   "id": "30440e2d-3625-4ddc-bbd2-c6aecee5a2d0",
   "metadata": {},
   "outputs": [],
   "source": [
    "prompt_dictionary = {\n",
    "    'lh_prompt': \"\"\"\n",
    "This is a video of a student working on an 8th grade math problem. (1) Create a table summarizing each move the student makes,\n",
    "the skill needed to make that move, whether the student is successful, and what that tells us about possible misconceptions or\n",
    "bugs the student reveals. (2) Summarize the student’s understanding and misconceptions and what they may need more help with,\n",
    "if anything.\n",
    "\"\"\",\n",
    "    'tq_prompt': \"\"\"\n",
    "This video is a screen capture of a student taking a math lesson. Based on the student's interaction with this lesson,\n",
    "what should the teacher do to help this student learn?\n",
    "\n",
    "Consider things like:\n",
    "* How is the student interacting with the lesson? Do they seem engaged? How do they react when they face difficulty?\n",
    "* What concepts and procedures does the student appear to have mastered?\n",
    "* What concepts and procedures does the student struggle with? What appears to be the nature of their misunderstanding?\n",
    "* What appears to be their state of engagement and understanding by the end of this interaction?\n",
    "* Given all of the above, what should the teacher do to help accelerate this student's learning (not just give them the answer)?\n",
    "\n",
    "Please give your response in Markdown format.\n",
    "\"\"\"\n",
    "}"
   ]
  },
  {
   "cell_type": "code",
   "execution_count": 6,
   "id": "94aa2366-ffdd-4d0b-b7c0-076f48046666",
   "metadata": {},
   "outputs": [],
   "source": [
    "prompt_identifier = 'lh_prompt'"
   ]
  },
  {
   "cell_type": "code",
   "execution_count": 7,
   "id": "dab7ea8c-9509-494b-aa63-ba75e7a53597",
   "metadata": {},
   "outputs": [],
   "source": [
    "video_path = Path('../videos/Zearn Screen Recording 2025-04-25 at 7.55.09 AM.mp4')"
   ]
  },
  {
   "cell_type": "code",
   "execution_count": 8,
   "id": "8b22baef-0e46-4122-ab28-eb6faaec4d52",
   "metadata": {},
   "outputs": [],
   "source": [
    "output_path = (\n",
    "    output_directory_path /\n",
    "    f\"{video_path.stem}_{model}_{prompt_identifier}.{output_extension}\"\n",
    ")"
   ]
  },
  {
   "cell_type": "code",
   "execution_count": 9,
   "id": "4a716d56-1e77-4561-a334-72b26facb80b",
   "metadata": {},
   "outputs": [
    {
     "data": {
      "text/plain": [
       "PosixPath('output/Zearn Screen Recording 2025-04-25 at 7.55.09\\u202fAM_gemini-2.5-pro-preview-03-25_lh_prompt.md')"
      ]
     },
     "execution_count": 9,
     "metadata": {},
     "output_type": "execute_result"
    }
   ],
   "source": [
    "output_path"
   ]
  },
  {
   "cell_type": "code",
   "execution_count": 10,
   "id": "88cbe5b0-f918-4998-9b60-1b9ec5f5705a",
   "metadata": {},
   "outputs": [],
   "source": [
    "api_key = os.getenv('GEMINI_API_KEY')\n",
    "if api_key is None:\n",
    "    raise ValueError ('Gemini API key not found in environment variables')"
   ]
  },
  {
   "cell_type": "code",
   "execution_count": 11,
   "id": "c9015929-3cc2-4d17-80f5-702e846842a2",
   "metadata": {},
   "outputs": [],
   "source": [
    "client = genai.Client(api_key=api_key)"
   ]
  },
  {
   "cell_type": "code",
   "execution_count": 12,
   "id": "002b50f0-3428-42bc-b22e-bb2103a7ceea",
   "metadata": {},
   "outputs": [],
   "source": [
    "video = client.files.upload(file=video_path)"
   ]
  },
  {
   "cell_type": "code",
   "execution_count": 15,
   "id": "acbdda13-44bf-4e0f-8ccf-38604a6b7a23",
   "metadata": {},
   "outputs": [],
   "source": [
    "response = client.models.generate_content(\n",
    "    model=model,\n",
    "    contents=[\n",
    "        video,\n",
    "        prompt_dictionary[prompt_identifier],\n",
    "    ],\n",
    ")"
   ]
  },
  {
   "cell_type": "code",
   "execution_count": 16,
   "id": "26e6dd86-8956-4ef4-bfdf-767423a39037",
   "metadata": {},
   "outputs": [],
   "source": [
    "with open(output_path, 'w') as fp:\n",
    "    fp.write(response.text)"
   ]
  },
  {
   "cell_type": "code",
   "execution_count": null,
   "id": "de1d45a7-019a-4a9d-95f6-4c7c24aecec0",
   "metadata": {},
   "outputs": [],
   "source": []
  }
 ],
 "metadata": {
  "kernelspec": {
   "display_name": "Python 3 (ipykernel)",
   "language": "python",
   "name": "python3"
  },
  "language_info": {
   "codemirror_mode": {
    "name": "ipython",
    "version": 3
   },
   "file_extension": ".py",
   "mimetype": "text/x-python",
   "name": "python",
   "nbconvert_exporter": "python",
   "pygments_lexer": "ipython3",
   "version": "3.9.15"
  }
 },
 "nbformat": 4,
 "nbformat_minor": 5
}
